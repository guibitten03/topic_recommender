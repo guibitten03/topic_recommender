{
 "cells": [
  {
   "cell_type": "code",
   "execution_count": 3,
   "metadata": {},
   "outputs": [],
   "source": [
    "import pandas as pd\n",
    "from database import Dataset"
   ]
  },
  {
   "cell_type": "code",
   "execution_count": 4,
   "metadata": {},
   "outputs": [],
   "source": [
    "tipPath = \"datasets/yelp_academic_dataset_tip.json\"\n",
    "datasetJson = Dataset.get_dataset_json(tipPath)\n",
    "tipDataset = Dataset.construct_dataset(Dataset, datasetJson)"
   ]
  }
 ],
 "metadata": {
  "kernelspec": {
   "display_name": "Python 3.6.9 ('.venv': venv)",
   "language": "python",
   "name": "python3"
  },
  "language_info": {
   "codemirror_mode": {
    "name": "ipython",
    "version": 3
   },
   "file_extension": ".py",
   "mimetype": "text/x-python",
   "name": "python",
   "nbconvert_exporter": "python",
   "pygments_lexer": "ipython3",
   "version": "3.6.9"
  },
  "orig_nbformat": 4,
  "vscode": {
   "interpreter": {
    "hash": "e95fc5c95d696f3f251e78508f0b845c19e5410c3750cffdd9d527f74754ce6a"
   }
  }
 },
 "nbformat": 4,
 "nbformat_minor": 2
}
